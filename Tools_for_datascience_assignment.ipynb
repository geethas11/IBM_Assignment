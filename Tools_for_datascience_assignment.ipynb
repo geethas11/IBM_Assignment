{
  "metadata": {
    "kernelspec": {
      "name": "python",
      "display_name": "Pyolite",
      "language": "python"
    },
    "language_info": {
      "codemirror_mode": {
        "name": "python",
        "version": 3
      },
      "file_extension": ".py",
      "mimetype": "text/x-python",
      "name": "python",
      "nbconvert_exporter": "python",
      "pygments_lexer": "ipython3",
      "version": "3.8"
    }
  },
  "nbformat_minor": 4,
  "nbformat": 4,
  "cells": [
    {
      "cell_type": "markdown",
      "source": "<center>\n    <img src=\"https://cf-courses-data.s3.us.cloud-object-storage.appdomain.cloud/IBMDeveloperSkillsNetwork-DS0105EN-SkillsNetwork/labs/Module2/images/SN_web_lightmode.png\" width=\"300\" alt=\"cognitiveclass.ai logo\">\n</center>\n",
      "metadata": {}
    },
    {
      "cell_type": "markdown",
      "source": "#### Add your code below following the instructions given in the course\n",
      "metadata": {}
    },
    {
      "cell_type": "markdown",
      "source": "# My First Jupyter Notebook in Skills  Network Labs",
      "metadata": {}
    },
    {
      "cell_type": "markdown",
      "source": "### Welcome to Jupyter Notebook for working and learning",
      "metadata": {}
    },
    {
      "cell_type": "markdown",
      "source": "**Data Science Languages:**\n-  Python\n-  Rstudio\n-  SQL\n-  Java\n-  Scala\n-  C++\n-  javaScript\n-  julia",
      "metadata": {}
    },
    {
      "cell_type": "markdown",
      "source": "**Data Science Libraries**\n1. Pandas\n2. NumPy\n3. Matplotlib\n4. Seaborn\n5. Scikit-learn\n6. Keras\n7. TensorFlow\n8. PyTorch",
      "metadata": {}
    },
    {
      "cell_type": "markdown",
      "source": "**Table of Tools used in Data Science**\n|SL No. |Name of the Tool|\n|:-----:|:-----|\n|1 |MySql  |\n|2|Jupyter|\n|3|Rstudio|\n|4|PowerBI|\n",
      "metadata": {}
    },
    {
      "cell_type": "markdown",
      "source": "**Examples for arithmetic expression:**\n\n3+10\n>30\n",
      "metadata": {}
    },
    {
      "cell_type": "code",
      "source": "2*3+1",
      "metadata": {
        "trusted": true
      },
      "execution_count": 1,
      "outputs": [
        {
          "execution_count": 1,
          "output_type": "execute_result",
          "data": {
            "text/plain": "7"
          },
          "metadata": {}
        }
      ]
    },
    {
      "cell_type": "code",
      "source": "min = 120\nmintohr = min//60\nprint(mintohr)",
      "metadata": {
        "trusted": true
      },
      "execution_count": 3,
      "outputs": [
        {
          "name": "stdout",
          "text": "2\n",
          "output_type": "stream"
        }
      ]
    },
    {
      "cell_type": "markdown",
      "source": "**List of objectives**\n-  three\n-  2\n-  one\n-  complete your course",
      "metadata": {}
    },
    {
      "cell_type": "markdown",
      "source": "## Author's Name : Geethanjali S",
      "metadata": {}
    }
  ]
}